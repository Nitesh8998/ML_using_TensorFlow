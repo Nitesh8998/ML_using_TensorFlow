{
  "nbformat": 4,
  "nbformat_minor": 0,
  "metadata": {
    "colab": {
      "name": "assignment_1",
      "version": "0.3.2",
      "provenance": [],
      "include_colab_link": true
    },
    "kernelspec": {
      "name": "python3",
      "display_name": "Python 3"
    }
  },
  "cells": [
    {
      "cell_type": "markdown",
      "metadata": {
        "id": "view-in-github",
        "colab_type": "text"
      },
      "source": [
        "<a href=\"https://colab.research.google.com/github/Nitesh8998/ML_using_TensorFlow/blob/master/assignment_1.ipynb\" target=\"_parent\"><img src=\"https://colab.research.google.com/assets/colab-badge.svg\" alt=\"Open In Colab\"/></a>"
      ]
    },
    {
      "cell_type": "code",
      "metadata": {
        "id": "geprWKsdfQ84",
        "colab_type": "code",
        "outputId": "f156f001-fe28-4f26-8928-81c17f963ece",
        "colab": {
          "base_uri": "https://localhost:8080/",
          "height": 53
        }
      },
      "source": [
        "import numpy as np\n",
        "\n",
        "arr = [100, 50, 400, 300, 200]\n",
        "\n",
        "\n",
        "std = np.std(arr)\n",
        "mean = np.mean(arr)\n",
        "mini = np.min(arr)\n",
        "maxi = np.max(arr)\n",
        "\n",
        "z_score = []\n",
        "min_max = []\n",
        "for x in arr:\n",
        "  z_score.append((x-mean)/std)\n",
        "  min_max.append((x-mini)/(maxi-mini))\n",
        "\n",
        "print(z_score)\n",
        "print(min_max)"
      ],
      "execution_count": 0,
      "outputs": [
        {
          "output_type": "stream",
          "text": [
            "[-0.8589556903873333, -1.2493900951088486, 1.4836507379417576, 0.7027819284987273, -0.07808688094430304]\n",
            "[0.14285714285714285, 0.0, 1.0, 0.7142857142857143, 0.42857142857142855]\n"
          ],
          "name": "stdout"
        }
      ]
    }
  ]
}